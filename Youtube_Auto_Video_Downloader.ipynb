{
 "cells": [
  {
   "cell_type": "code",
   "execution_count": 13,
   "metadata": {},
   "outputs": [],
   "source": [
    "from selenium import webdriver\n",
    "from selenium.webdriver.common.keys import Keys\n",
    "from bs4 import BeautifulSoup as soup\n",
    "import time"
   ]
  },
  {
   "cell_type": "code",
   "execution_count": 14,
   "metadata": {},
   "outputs": [],
   "source": [
    "driver = webdriver.Chrome(r'C:\\Users\\Arslan Farooq\\Documents\\ChromeDriver\\chromedriver.exe')\n",
    "driver.get('https://www.youtube.com/playlist?list=PLwoh6bBAszPrES-EOajos_E9gvRbL27wz')\n",
    "driver.maximize_window()\n",
    "time.sleep(2)\n",
    "scroll = driver.find_element_by_tag_name('html')\n",
    "scroll.send_keys(Keys.END)\n",
    "time.sleep(2.5)\n",
    "scroll.send_keys(Keys.HOME)\n",
    "time.sleep(2.5)\n",
    "scroll.send_keys(Keys.END)"
   ]
  },
  {
   "cell_type": "code",
   "execution_count": 15,
   "metadata": {},
   "outputs": [],
   "source": [
    "#class=\"style-scope ytd-playlist-video-list-renderer\""
   ]
  },
  {
   "cell_type": "code",
   "execution_count": 16,
   "metadata": {},
   "outputs": [
    {
     "name": "stdout",
     "output_type": "stream",
     "text": [
      "133\n"
     ]
    }
   ],
   "source": [
    "page_soup = soup(driver.page_source,'lxml')\n",
    "Videos_links = page_soup.find('div',{'class':'style-scope ytd-playlist-video-list-renderer'})\n",
    "print(len(Videos_links))"
   ]
  },
  {
   "cell_type": "code",
   "execution_count": null,
   "metadata": {},
   "outputs": [],
   "source": []
  }
 ],
 "metadata": {
  "kernelspec": {
   "display_name": "Python 3",
   "language": "python",
   "name": "python3"
  },
  "language_info": {
   "codemirror_mode": {
    "name": "ipython",
    "version": 3
   },
   "file_extension": ".py",
   "mimetype": "text/x-python",
   "name": "python",
   "nbconvert_exporter": "python",
   "pygments_lexer": "ipython3",
   "version": "3.7.1"
  }
 },
 "nbformat": 4,
 "nbformat_minor": 2
}
